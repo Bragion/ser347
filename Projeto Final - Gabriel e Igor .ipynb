{
 "cells": [
  {
   "cell_type": "markdown",
   "metadata": {},
   "source": [
    "<img src=\"https://user-images.githubusercontent.com/39976464/41015148-6f6bd4a6-691f-11e8-9e39-3d62d40265e6.png\">\n",
    "# SER - 347 - Introdução à Programação para Sensoriamento Remoto \n",
    "## Operações Zonais Aplicadas a Dados de Luzes Noturnas\n",
    "- Gabriel da Rocha Bragion\n",
    "- Igor José Malfetoni Ferreira\n"
   ]
  },
  {
   "cell_type": "markdown",
   "metadata": {},
   "source": [
    "## 1. Introdução \n",
    "\n",
    "\n"
   ]
  },
  {
   "cell_type": "markdown",
   "metadata": {},
   "source": [
    "### 2 Módulos utilizados\n",
    "\n",
    "\n",
    "\n"
   ]
  },
  {
   "cell_type": "markdown",
   "metadata": {},
   "source": [
    "**2.1 OSGeo - Pacote de ferramentas do Python para manipulação de dados espaciais:**\n",
    "    \n",
    "- OGR - Biblioteca utilizada para manipulação de vetores;\n",
    "\n",
    "- GDAL - Biblioteca utilizada para manipulação de raster;\n",
    "\n",
    "- GDALconst - Constantes utilizadas para definir os tipos de dados nas categorias geoespaciais;\n",
    "    \n",
    "- GDAL Exceptions - Conjunto de exceções em casos de erro de processamento;\n",
    "\n",
    "- OSR - Módulo para leitura de metadados."
   ]
  },
  {
   "cell_type": "code",
   "execution_count": 1,
   "metadata": {},
   "outputs": [],
   "source": [
    "from osgeo import gdal, ogr, osr\n",
    "import gdal\n",
    "gdal.UseExceptions()\n",
    "from gdalconst import *\n"
   ]
  },
  {
   "cell_type": "markdown",
   "metadata": {},
   "source": [
    "**2.2 Fiona - Pacote facilitador de ferramentas para leitura e escrita de dados vetoriais **\n",
    "- Collection - Módulo voltado para leitura de coleções dados geoespaciais; \n"
   ]
  },
  {
   "cell_type": "code",
   "execution_count": 2,
   "metadata": {},
   "outputs": [],
   "source": [
    "import fiona\n",
    "from fiona import collection"
   ]
  },
  {
   "cell_type": "markdown",
   "metadata": {},
   "source": [
    "** 2.3 Collections - Pacote de coleções especializadas, como dicionários e listas alternativas **\n",
    "- OrderedDict - Dicinário que memoriza a ordem das classes inseridas"
   ]
  },
  {
   "cell_type": "code",
   "execution_count": 3,
   "metadata": {},
   "outputs": [],
   "source": [
    "import collections\n",
    "from collections import OrderedDict"
   ]
  },
  {
   "cell_type": "markdown",
   "metadata": {},
   "source": [
    "**2.4 Shapely - Pacote do Python para manipulação de geometrias planas **\n",
    "- Shape - Permite o acesso e operações entre geometrias"
   ]
  },
  {
   "cell_type": "code",
   "execution_count": 4,
   "metadata": {},
   "outputs": [],
   "source": [
    "import shapely as shp\n",
    "from shapely.geometry import shape\n",
    "import os\n"
   ]
  },
  {
   "cell_type": "markdown",
   "metadata": {},
   "source": [
    "### 3. Manipulação de dados matriciais georreferenciados"
   ]
  },
  {
   "cell_type": "markdown",
   "metadata": {},
   "source": [
    "- **Ojetivos**: \n",
    "    - Acessar um dado no formato GeoTiff e recuperar os seus metadados;\n",
    "    - Organizar os metadados;\n",
    "    - Poligonizar o raster (*Raster to Vector*)\n",
    "    - Associar os metadados ao vetor criado (*shapefile*)\n",
    "                        "
   ]
  },
  {
   "cell_type": "markdown",
   "metadata": {},
   "source": [
    "** 3.1 Leitura e recuperação dos metadados **\n",
    " - Atribuição do raster a variável *viirs* e recuperação do Sistema de Referência de Coordenadas:"
   ]
  },
  {
   "cell_type": "code",
   "execution_count": 6,
   "metadata": {
    "scrolled": true
   },
   "outputs": [
    {
     "data": {
      "text/plain": [
       "0"
      ]
     },
     "execution_count": 6,
     "metadata": {},
     "output_type": "execute_result"
    }
   ],
   "source": [
    "ds_raster = (\"D:/trabalhoprog2/rec2_22s.tif\")\n",
    "viirs = gdal.Open(ds_raster)\n",
    "srs = osr.SpatialReference()\n",
    "srs.ImportFromWkt(viirs.GetProjection())\n",
    "\n"
   ]
  },
  {
   "cell_type": "markdown",
   "metadata": {},
   "source": [
    "- Definindo Banda, nome e driver para criação do vetor de saída:"
   ]
  },
  {
   "cell_type": "code",
   "execution_count": 7,
   "metadata": {},
   "outputs": [],
   "source": [
    "viirsband = viirs.GetRasterBand(1)\n",
    "\n",
    "viirs_name = \"D:/trabalhoprog2/viirspoly\"\n",
    "\n",
    "drv=ogr.GetDriverByName(\"ESRI Shapefile\")"
   ]
  },
  {
   "cell_type": "markdown",
   "metadata": {},
   "source": [
    "- Criando um shapefile de saída:"
   ]
  },
  {
   "cell_type": "code",
   "execution_count": 8,
   "metadata": {},
   "outputs": [
    {
     "data": {
      "text/plain": [
       "0"
      ]
     },
     "execution_count": 8,
     "metadata": {},
     "output_type": "execute_result"
    }
   ],
   "source": [
    "\n",
    "dst_ds = drv.CreateDataSource(viirs_name + \".shp\")\n",
    "\n",
    "dst_layer = dst_ds.CreateLayer(viirs_name, srs = srs)\n",
    "\n",
    "newField = ogr.FieldDefn('DN', ogr.OFTReal)\n",
    "\n",
    "dst_layer.CreateField(newField)"
   ]
  },
  {
   "cell_type": "markdown",
   "metadata": {},
   "source": [
    "\n",
    "<img src=\"https://user-images.githubusercontent.com/39976464/41012564-79b750f4-6918-11e8-8afb-b1fd41ed7bef.png\">\n",
    "            - Figura 1: Shapefiles.\n",
    "  "
   ]
  },
  {
   "cell_type": "markdown",
   "metadata": {},
   "source": [
    "** 3.2 Poligonização  **"
   ]
  },
  {
   "cell_type": "markdown",
   "metadata": {},
   "source": [
    "- A poligonização é o processo de transformar um raster em um vetor;\n",
    "- Os pixels tangentes de mesmo valor são associados a uma única feição;\n",
    "- A função retorna um shapefile contendo um conjunto de feições com vlores de atributos correspondentes aos do dado de entrada."
   ]
  },
  {
   "cell_type": "code",
   "execution_count": 9,
   "metadata": {},
   "outputs": [],
   "source": [
    "gdal.Polygonize(viirsband, None, dst_layer, 0, [], callback=None)\n",
    "dst_ds=None"
   ]
  },
  {
   "cell_type": "markdown",
   "metadata": {},
   "source": [
    "<img src=\"https://user-images.githubusercontent.com/39976464/41012585-93f01398-6918-11e8-8f4b-fd7fb6b56e13.png\">\n",
    "            - Figura 2: Função Poligonize: resultados.\n",
    "\n"
   ]
  },
  {
   "cell_type": "markdown",
   "metadata": {},
   "source": [
    "### 4. Intersecção dos arquivos vetoriais"
   ]
  },
  {
   "cell_type": "markdown",
   "metadata": {},
   "source": [
    "- **Ojetivos**: \n",
    "    - Acessar o shapefile correspondente aos setores censitários do município de Belém - PA;\n",
    "    - Acessar os dados de luzes noturnas poligonizados na etapa anterior;\n",
    "    - Calcular o número de pixels com valores de números digitais maior que cinco (5) para cada setor censitário. \n",
    "    - Criar um arquivo de saída no formato shapefile com o atributo \"Números digitais maiores que 5 (ND)\"\n",
    "    \n",
    "                        "
   ]
  },
  {
   "cell_type": "markdown",
   "metadata": {},
   "source": [
    "**4.1 Leitura das geometrias dos setores censitários e associação dos metadados**"
   ]
  },
  {
   "cell_type": "code",
   "execution_count": 10,
   "metadata": {},
   "outputs": [],
   "source": [
    "with fiona.open(\"D:/trabalhoprog2/set_para_4326_22s.shp\", \"r\") as setores:\n",
    "    source_driver = setores.driver\n",
    "    source_crs = setores.crs\n",
    "    source_schema = setores.schema\n",
    "\n",
    "out_schema={'properties': OrderedDict([('ID', 'int:11'),\n",
    "                                       ('CD_GEOCODI', 'str:20'),\n",
    "                                       ('TIPO', 'str:10'), \n",
    "                                       ('CD_GEOCODB', 'str:20'),\n",
    "                                       ('NM_BAIRRO', 'str:60'), \n",
    "                                       ('CD_GEOCODS', 'str:20'),\n",
    "                                       ('NM_SUBDIST', 'str:60'), \n",
    "                                       ('CD_GEOCODD', 'str:20'),\n",
    "                                       ('NM_DISTRIT', 'str:60'), \n",
    "                                       ('CD_GEOCODM', 'str:20'),\n",
    "                                       ('NM_MUNICIP', 'str:60'), \n",
    "                                       ('NM_MICRO', 'str:100'),\n",
    "                                       ('NM_MESO', 'str:100'),\n",
    "                                       ('ND5', 'float:15.10')]),\n",
    "            'geometry': 'Polygon'}\n",
    "\n",
    "\n"
   ]
  },
  {
   "cell_type": "markdown",
   "metadata": {},
   "source": [
    "**4.2 Intersecção**\n",
    "- Para setor censitário, será contabilizados o número de pixels válidos (ND>5)\n",
    "\n",
    "    <img src=\"https://user-images.githubusercontent.com/39976464/41013647-8073cb7a-691d-11e8-8fa9-be1db856651e.png\">\n",
    "                                            - Figura 2: Função Poligonize: resultados.\n",
    "            \n",
    "    1. Criar um .shp de saída (intersec.shp)\n",
    "    2. Abrir os dados vetoriais de entrada (setores; viirs)\n",
    "    3. Verificar a intersecção entre cada setor (setores) e ntl (viirs)\n",
    "    4. Calcular a área interctada\n",
    "    5. Dividir o valor total intersectado pela área do pixel (número de pixels válidos)\n",
    "    6. Associar o número de pixels válidos ao atributo ND, do novo .shp criado."
   ]
  },
  {
   "cell_type": "code",
   "execution_count": 11,
   "metadata": {},
   "outputs": [],
   "source": [
    "with fiona.open(\"D:/trabalhoprog2/interseccao.shp\",\"w\",\n",
    "                driver=source_driver,\n",
    "                crs=source_crs,\n",
    "                schema=out_schema) as intersec:\n",
    "    with fiona.open(\"D:/trabalhoprog2/set_para_4326_22s.shp\", \"r\") as setores:\n",
    "        with fiona.open(\"D:/trabalhoprog2/viirspoly.shp\") as viirs:\n",
    "            for setor in setores:\n",
    "                geom_setor = shape(setor['geometry'])\n",
    "\n",
    "\n",
    "                area_total = 0\n",
    "\n",
    "                for ntl in viirs:\n",
    "                    geom_viirs = shape(ntl['geometry'])\n",
    "                    value_viirs = ntl['properties']['DN']\n",
    "                    if geom_setor.intersects(geom_viirs) and value_viirs >0:\n",
    "                        forma = geom_setor.intersection(geom_viirs)\n",
    "                        area = forma.area\n",
    "                        area_total = (area_total + area)\n",
    "                setor['properties']['ND5'] = (area_total/215139.4153)\n",
    "                intersec.write(setor)\n",
    "                \n"
   ]
  },
  {
   "cell_type": "markdown",
   "metadata": {},
   "source": [
    "## Considerações Finais \n",
    "\n",
    "- Poligonização de dados matriciais em vetoriais\n",
    "- cálculo das áreas de intersecção das geometrias do arquivo vetorial criado; \n",
    "\n",
    "- Quantificação do número de pixels válidos associado a cada geometria interseccionada.\n",
    "\n",
    "**No entanto, a aplicação do algoritmo em arquivos contendo um grande número de feições torna o processo lento. Dessa forma, projetos futuros devem investir esforços para a implementação de índices como Rtree a fim de otimizar o processo de verificação das geometrias, tornando o mais eficiente.**\n"
   ]
  }
 ],
 "metadata": {
  "kernelspec": {
   "display_name": "Python (geospatial)",
   "language": "python",
   "name": "geospatial"
  },
  "language_info": {
   "codemirror_mode": {
    "name": "ipython",
    "version": 3
   },
   "file_extension": ".py",
   "mimetype": "text/x-python",
   "name": "python",
   "nbconvert_exporter": "python",
   "pygments_lexer": "ipython3",
   "version": "3.6.5"
  }
 },
 "nbformat": 4,
 "nbformat_minor": 2
}
